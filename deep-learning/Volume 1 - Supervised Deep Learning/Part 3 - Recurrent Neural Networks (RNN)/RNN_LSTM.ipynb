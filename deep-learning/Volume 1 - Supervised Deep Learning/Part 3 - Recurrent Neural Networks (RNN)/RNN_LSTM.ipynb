{
  "nbformat": 4,
  "nbformat_minor": 0,
  "metadata": {
    "colab": {
      "name": "RNN - LSTM",
      "provenance": [],
      "collapsed_sections": [],
      "toc_visible": true,
      "authorship_tag": "ABX9TyOcVbusRjaek1lryD0V1aO7",
      "include_colab_link": true
    },
    "kernelspec": {
      "name": "python3",
      "display_name": "Python 3"
    }
  },
  "cells": [
    {
      "cell_type": "markdown",
      "metadata": {
        "id": "view-in-github",
        "colab_type": "text"
      },
      "source": [
        "<a href=\"https://colab.research.google.com/github/anandrajaram21/data-science/blob/master/deep-learning/Volume%201%20-%20Supervised%20Deep%20Learning/Part%203%20-%20Recurrent%20Neural%20Networks%20(RNN)/RNN_LSTM.ipynb\" target=\"_parent\"><img src=\"https://colab.research.google.com/assets/colab-badge.svg\" alt=\"Open In Colab\"/></a>"
      ]
    },
    {
      "cell_type": "markdown",
      "metadata": {
        "id": "d9WV4OhL1gaJ",
        "colab_type": "text"
      },
      "source": [
        "# Recurrent Neural Networks\n",
        "\n"
      ]
    },
    {
      "cell_type": "markdown",
      "metadata": {
        "id": "xdxdj-Me1rGC",
        "colab_type": "text"
      },
      "source": [
        "## Data Preprocessing"
      ]
    },
    {
      "cell_type": "code",
      "metadata": {
        "id": "8-cJ3mTB0ZF4",
        "colab_type": "code",
        "colab": {}
      },
      "source": [
        "# Importing the libraries\n",
        "import numpy as np\n",
        "import pandas as pd\n",
        "import matplotlib.pyplot as plt"
      ],
      "execution_count": 1,
      "outputs": []
    },
    {
      "cell_type": "code",
      "metadata": {
        "id": "zxioYL-2189v",
        "colab_type": "code",
        "colab": {}
      },
      "source": [
        "# Importing the training set\n",
        "dataset_train = pd.read_csv('https://raw.githubusercontent.com/anandrajaram21/datasets/master/Google_Stock_Price_Train.csv')\n",
        "training_set = dataset_train.iloc[:, 1:2].values"
      ],
      "execution_count": 2,
      "outputs": []
    },
    {
      "cell_type": "code",
      "metadata": {
        "id": "i4qv_YsT2s7k",
        "colab_type": "code",
        "colab": {}
      },
      "source": [
        "# Feature scaling\n",
        "from sklearn.preprocessing import MinMaxScaler\n",
        "sc = MinMaxScaler(feature_range = (0, 1))\n",
        "training_set_scaled = sc.fit_transform(training_set)"
      ],
      "execution_count": 3,
      "outputs": []
    },
    {
      "cell_type": "code",
      "metadata": {
        "id": "bjyLi3Ap3oIc",
        "colab_type": "code",
        "colab": {}
      },
      "source": [
        "# Creating a data structure with 60 timesteps and 3 outputs\n",
        "X_train = []\n",
        "y_train = []\n",
        "for i in range(60, 1258):\n",
        "  X_train.append(training_set_scaled[i-60: i, 0])\n",
        "  y_train.append(training_set_scaled[i, 0])\n",
        "X_train, y_train = np.array(X_train), np.array(y_train)"
      ],
      "execution_count": 4,
      "outputs": []
    },
    {
      "cell_type": "code",
      "metadata": {
        "id": "A-H9NRGe6xe8",
        "colab_type": "code",
        "colab": {}
      },
      "source": [
        "X_train = np.reshape(X_train, (X_train.shape[0], X_train.shape[1], 1))"
      ],
      "execution_count": 5,
      "outputs": []
    },
    {
      "cell_type": "markdown",
      "metadata": {
        "id": "nI-Ulknm9DHr",
        "colab_type": "text"
      },
      "source": [
        "## Building the RNN"
      ]
    },
    {
      "cell_type": "code",
      "metadata": {
        "id": "j5YBKffw9CWu",
        "colab_type": "code",
        "colab": {
          "base_uri": "https://localhost:8080/",
          "height": 35
        },
        "outputId": "19e47473-0320-4ae2-cc25-f3350424bdbf"
      },
      "source": [
        "# Importing the libraries\n",
        "import tensorflow as tf\n",
        "from tensorflow import keras\n",
        "from keras.models import Sequential\n",
        "from keras.layers import Dense, LSTM, Dropout"
      ],
      "execution_count": 6,
      "outputs": [
        {
          "output_type": "stream",
          "text": [
            "Using TensorFlow backend.\n"
          ],
          "name": "stderr"
        }
      ]
    },
    {
      "cell_type": "code",
      "metadata": {
        "id": "aGfsGHJj9aE7",
        "colab_type": "code",
        "colab": {}
      },
      "source": [
        "# Initializing the RNN\n",
        "regressor = Sequential()"
      ],
      "execution_count": 7,
      "outputs": []
    },
    {
      "cell_type": "code",
      "metadata": {
        "id": "Tj4gsQBF9eia",
        "colab_type": "code",
        "colab": {}
      },
      "source": [
        "# Adding first layer with dropout regularization\n",
        "regressor.add(LSTM(units = 50, return_sequences = True, input_shape = (X_train.shape[1], 1)))\n",
        "regressor.add(Dropout(0.2))"
      ],
      "execution_count": 8,
      "outputs": []
    },
    {
      "cell_type": "code",
      "metadata": {
        "id": "uu8qQDdS-TPl",
        "colab_type": "code",
        "colab": {}
      },
      "source": [
        "# Adding a second LSTM layer with dropout regularization\n",
        "regressor.add(LSTM(units = 50, return_sequences = True))\n",
        "regressor.add(Dropout(0.2))"
      ],
      "execution_count": 9,
      "outputs": []
    },
    {
      "cell_type": "code",
      "metadata": {
        "id": "kdqBAI_n-2Pb",
        "colab_type": "code",
        "colab": {}
      },
      "source": [
        "# Adding a third LSTM layer with dropout regularization\n",
        "regressor.add(LSTM(units = 50, return_sequences = True))\n",
        "regressor.add(Dropout(0.2))"
      ],
      "execution_count": 10,
      "outputs": []
    },
    {
      "cell_type": "code",
      "metadata": {
        "id": "sbxmieTa_CmD",
        "colab_type": "code",
        "colab": {}
      },
      "source": [
        "# Adding a fourth LSTM layer with dropout regularization\n",
        "regressor.add(LSTM(units = 50))\n",
        "regressor.add(Dropout(0.2))"
      ],
      "execution_count": 11,
      "outputs": []
    },
    {
      "cell_type": "code",
      "metadata": {
        "id": "rfUtfpUx_QF8",
        "colab_type": "code",
        "colab": {}
      },
      "source": [
        "# Adding the output layer\n",
        "regressor.add(Dense(units = 1))"
      ],
      "execution_count": 12,
      "outputs": []
    },
    {
      "cell_type": "code",
      "metadata": {
        "id": "uTNMakVV_kjr",
        "colab_type": "code",
        "colab": {}
      },
      "source": [
        "# Compiling the RNN\n",
        "regressor.compile(optimizer = 'adam', loss = 'mean_squared_error')"
      ],
      "execution_count": 13,
      "outputs": []
    },
    {
      "cell_type": "code",
      "metadata": {
        "id": "4D9JgYrWAb0F",
        "colab_type": "code",
        "colab": {
          "base_uri": "https://localhost:8080/",
          "height": 1000
        },
        "outputId": "ac615e97-4f14-45db-a392-c4669d872881"
      },
      "source": [
        "# Fitting the RNN to the Training set\n",
        "regressor.fit(X_train, y_train, epochs = 100, batch_size = 32)"
      ],
      "execution_count": 14,
      "outputs": [
        {
          "output_type": "stream",
          "text": [
            "Epoch 1/100\n",
            "1198/1198 [==============================] - 7s 6ms/step - loss: 0.0279\n",
            "Epoch 2/100\n",
            "1198/1198 [==============================] - 5s 5ms/step - loss: 0.0058\n",
            "Epoch 3/100\n",
            "1198/1198 [==============================] - 5s 5ms/step - loss: 0.0052\n",
            "Epoch 4/100\n",
            "1198/1198 [==============================] - 5s 5ms/step - loss: 0.0051\n",
            "Epoch 5/100\n",
            "1198/1198 [==============================] - 6s 5ms/step - loss: 0.0054\n",
            "Epoch 6/100\n",
            "1198/1198 [==============================] - 6s 5ms/step - loss: 0.0051\n",
            "Epoch 7/100\n",
            "1198/1198 [==============================] - 6s 5ms/step - loss: 0.0045\n",
            "Epoch 8/100\n",
            "1198/1198 [==============================] - 6s 5ms/step - loss: 0.0049\n",
            "Epoch 9/100\n",
            "1198/1198 [==============================] - 6s 5ms/step - loss: 0.0047\n",
            "Epoch 10/100\n",
            "1198/1198 [==============================] - 6s 5ms/step - loss: 0.0043\n",
            "Epoch 11/100\n",
            "1198/1198 [==============================] - 6s 5ms/step - loss: 0.0042\n",
            "Epoch 12/100\n",
            "1198/1198 [==============================] - 5s 5ms/step - loss: 0.0037\n",
            "Epoch 13/100\n",
            "1198/1198 [==============================] - 5s 5ms/step - loss: 0.0039\n",
            "Epoch 14/100\n",
            "1198/1198 [==============================] - 5s 5ms/step - loss: 0.0037\n",
            "Epoch 15/100\n",
            "1198/1198 [==============================] - 6s 5ms/step - loss: 0.0040\n",
            "Epoch 16/100\n",
            "1198/1198 [==============================] - 6s 5ms/step - loss: 0.0038\n",
            "Epoch 17/100\n",
            "1198/1198 [==============================] - 6s 5ms/step - loss: 0.0034\n",
            "Epoch 18/100\n",
            "1198/1198 [==============================] - 6s 5ms/step - loss: 0.0034\n",
            "Epoch 19/100\n",
            "1198/1198 [==============================] - 6s 5ms/step - loss: 0.0033\n",
            "Epoch 20/100\n",
            "1198/1198 [==============================] - 6s 5ms/step - loss: 0.0036\n",
            "Epoch 21/100\n",
            "1198/1198 [==============================] - 6s 5ms/step - loss: 0.0035\n",
            "Epoch 22/100\n",
            "1198/1198 [==============================] - 6s 5ms/step - loss: 0.0033\n",
            "Epoch 23/100\n",
            "1198/1198 [==============================] - 6s 5ms/step - loss: 0.0033\n",
            "Epoch 24/100\n",
            "1198/1198 [==============================] - 6s 5ms/step - loss: 0.0031\n",
            "Epoch 25/100\n",
            "1198/1198 [==============================] - 6s 5ms/step - loss: 0.0031\n",
            "Epoch 26/100\n",
            "1198/1198 [==============================] - 6s 5ms/step - loss: 0.0030\n",
            "Epoch 27/100\n",
            "1198/1198 [==============================] - 6s 5ms/step - loss: 0.0035\n",
            "Epoch 28/100\n",
            "1198/1198 [==============================] - 6s 5ms/step - loss: 0.0032\n",
            "Epoch 29/100\n",
            "1198/1198 [==============================] - 6s 5ms/step - loss: 0.0034\n",
            "Epoch 30/100\n",
            "1198/1198 [==============================] - 6s 5ms/step - loss: 0.0031\n",
            "Epoch 31/100\n",
            "1198/1198 [==============================] - 6s 5ms/step - loss: 0.0030\n",
            "Epoch 32/100\n",
            "1198/1198 [==============================] - 6s 5ms/step - loss: 0.0027\n",
            "Epoch 33/100\n",
            "1198/1198 [==============================] - 6s 5ms/step - loss: 0.0027\n",
            "Epoch 34/100\n",
            "1198/1198 [==============================] - 6s 5ms/step - loss: 0.0026\n",
            "Epoch 35/100\n",
            "1198/1198 [==============================] - 6s 5ms/step - loss: 0.0028\n",
            "Epoch 36/100\n",
            "1198/1198 [==============================] - 6s 5ms/step - loss: 0.0027\n",
            "Epoch 37/100\n",
            "1198/1198 [==============================] - 6s 5ms/step - loss: 0.0029\n",
            "Epoch 38/100\n",
            "1198/1198 [==============================] - 6s 5ms/step - loss: 0.0025\n",
            "Epoch 39/100\n",
            "1198/1198 [==============================] - 6s 5ms/step - loss: 0.0026\n",
            "Epoch 40/100\n",
            "1198/1198 [==============================] - 6s 5ms/step - loss: 0.0025\n",
            "Epoch 41/100\n",
            "1198/1198 [==============================] - 6s 5ms/step - loss: 0.0028\n",
            "Epoch 42/100\n",
            "1198/1198 [==============================] - 6s 5ms/step - loss: 0.0028\n",
            "Epoch 43/100\n",
            "1198/1198 [==============================] - 6s 5ms/step - loss: 0.0025\n",
            "Epoch 44/100\n",
            "1198/1198 [==============================] - 6s 5ms/step - loss: 0.0024\n",
            "Epoch 45/100\n",
            "1198/1198 [==============================] - 6s 5ms/step - loss: 0.0024\n",
            "Epoch 46/100\n",
            "1198/1198 [==============================] - 6s 5ms/step - loss: 0.0025\n",
            "Epoch 47/100\n",
            "1198/1198 [==============================] - 6s 5ms/step - loss: 0.0027\n",
            "Epoch 48/100\n",
            "1198/1198 [==============================] - 6s 5ms/step - loss: 0.0026\n",
            "Epoch 49/100\n",
            "1198/1198 [==============================] - 6s 5ms/step - loss: 0.0021\n",
            "Epoch 50/100\n",
            "1198/1198 [==============================] - 6s 5ms/step - loss: 0.0021\n",
            "Epoch 51/100\n",
            "1198/1198 [==============================] - 6s 5ms/step - loss: 0.0024\n",
            "Epoch 52/100\n",
            "1198/1198 [==============================] - 6s 5ms/step - loss: 0.0023\n",
            "Epoch 53/100\n",
            "1198/1198 [==============================] - 6s 5ms/step - loss: 0.0025\n",
            "Epoch 54/100\n",
            "1198/1198 [==============================] - 6s 5ms/step - loss: 0.0023\n",
            "Epoch 55/100\n",
            "1198/1198 [==============================] - 6s 5ms/step - loss: 0.0019\n",
            "Epoch 56/100\n",
            "1198/1198 [==============================] - 6s 5ms/step - loss: 0.0019\n",
            "Epoch 57/100\n",
            "1198/1198 [==============================] - 6s 5ms/step - loss: 0.0020\n",
            "Epoch 58/100\n",
            "1198/1198 [==============================] - 6s 5ms/step - loss: 0.0019\n",
            "Epoch 59/100\n",
            "1198/1198 [==============================] - 6s 5ms/step - loss: 0.0019\n",
            "Epoch 60/100\n",
            "1198/1198 [==============================] - 6s 5ms/step - loss: 0.0020\n",
            "Epoch 61/100\n",
            "1198/1198 [==============================] - 6s 5ms/step - loss: 0.0020\n",
            "Epoch 62/100\n",
            "1198/1198 [==============================] - 6s 5ms/step - loss: 0.0020\n",
            "Epoch 63/100\n",
            "1198/1198 [==============================] - 6s 5ms/step - loss: 0.0019\n",
            "Epoch 64/100\n",
            "1198/1198 [==============================] - 6s 5ms/step - loss: 0.0019\n",
            "Epoch 65/100\n",
            "1198/1198 [==============================] - 6s 5ms/step - loss: 0.0018\n",
            "Epoch 66/100\n",
            "1198/1198 [==============================] - 6s 5ms/step - loss: 0.0018\n",
            "Epoch 67/100\n",
            "1198/1198 [==============================] - 6s 5ms/step - loss: 0.0017\n",
            "Epoch 68/100\n",
            "1198/1198 [==============================] - 6s 5ms/step - loss: 0.0017\n",
            "Epoch 69/100\n",
            "1198/1198 [==============================] - 6s 5ms/step - loss: 0.0019\n",
            "Epoch 70/100\n",
            "1198/1198 [==============================] - 6s 5ms/step - loss: 0.0020\n",
            "Epoch 71/100\n",
            "1198/1198 [==============================] - 6s 5ms/step - loss: 0.0019\n",
            "Epoch 72/100\n",
            "1198/1198 [==============================] - 6s 5ms/step - loss: 0.0018\n",
            "Epoch 73/100\n",
            "1198/1198 [==============================] - 6s 5ms/step - loss: 0.0020\n",
            "Epoch 74/100\n",
            "1198/1198 [==============================] - 6s 5ms/step - loss: 0.0018\n",
            "Epoch 75/100\n",
            "1198/1198 [==============================] - 6s 5ms/step - loss: 0.0017\n",
            "Epoch 76/100\n",
            "1198/1198 [==============================] - 6s 5ms/step - loss: 0.0017\n",
            "Epoch 77/100\n",
            "1198/1198 [==============================] - 6s 5ms/step - loss: 0.0017\n",
            "Epoch 78/100\n",
            "1198/1198 [==============================] - 6s 5ms/step - loss: 0.0017\n",
            "Epoch 79/100\n",
            "1198/1198 [==============================] - 6s 5ms/step - loss: 0.0020\n",
            "Epoch 80/100\n",
            "1198/1198 [==============================] - 6s 5ms/step - loss: 0.0015\n",
            "Epoch 81/100\n",
            "1198/1198 [==============================] - 6s 5ms/step - loss: 0.0016\n",
            "Epoch 82/100\n",
            "1198/1198 [==============================] - 6s 5ms/step - loss: 0.0015\n",
            "Epoch 83/100\n",
            "1198/1198 [==============================] - 6s 5ms/step - loss: 0.0015\n",
            "Epoch 84/100\n",
            "1198/1198 [==============================] - 6s 5ms/step - loss: 0.0018\n",
            "Epoch 85/100\n",
            "1198/1198 [==============================] - 6s 5ms/step - loss: 0.0017\n",
            "Epoch 86/100\n",
            "1198/1198 [==============================] - 6s 5ms/step - loss: 0.0017\n",
            "Epoch 87/100\n",
            "1198/1198 [==============================] - 6s 5ms/step - loss: 0.0014\n",
            "Epoch 88/100\n",
            "1198/1198 [==============================] - 6s 5ms/step - loss: 0.0016\n",
            "Epoch 89/100\n",
            "1198/1198 [==============================] - 6s 5ms/step - loss: 0.0015\n",
            "Epoch 90/100\n",
            "1198/1198 [==============================] - 6s 5ms/step - loss: 0.0014\n",
            "Epoch 91/100\n",
            "1198/1198 [==============================] - 6s 5ms/step - loss: 0.0015\n",
            "Epoch 92/100\n",
            "1198/1198 [==============================] - 6s 5ms/step - loss: 0.0014\n",
            "Epoch 93/100\n",
            "1198/1198 [==============================] - 6s 5ms/step - loss: 0.0014\n",
            "Epoch 94/100\n",
            "1198/1198 [==============================] - 6s 5ms/step - loss: 0.0015\n",
            "Epoch 95/100\n",
            "1198/1198 [==============================] - 6s 5ms/step - loss: 0.0013\n",
            "Epoch 96/100\n",
            "1198/1198 [==============================] - 6s 5ms/step - loss: 0.0014\n",
            "Epoch 97/100\n",
            "1198/1198 [==============================] - 6s 5ms/step - loss: 0.0014\n",
            "Epoch 98/100\n",
            "1198/1198 [==============================] - 5s 5ms/step - loss: 0.0014\n",
            "Epoch 99/100\n",
            "1198/1198 [==============================] - 6s 5ms/step - loss: 0.0013\n",
            "Epoch 100/100\n",
            "1198/1198 [==============================] - 6s 5ms/step - loss: 0.0015\n"
          ],
          "name": "stdout"
        },
        {
          "output_type": "execute_result",
          "data": {
            "text/plain": [
              "<keras.callbacks.callbacks.History at 0x7fe44be87da0>"
            ]
          },
          "metadata": {
            "tags": []
          },
          "execution_count": 14
        }
      ]
    },
    {
      "cell_type": "code",
      "metadata": {
        "id": "Fe-SIPd8BCcP",
        "colab_type": "code",
        "colab": {}
      },
      "source": [
        ""
      ],
      "execution_count": 14,
      "outputs": []
    }
  ]
}